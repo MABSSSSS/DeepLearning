{
 "cells": [
  {
   "cell_type": "markdown",
   "metadata": {},
   "source": [
    "Generative Adversarial Networks (GANs)\n",
    "\n",
    "GANs are a type of neural network that generate new data similar to a given dataset. \n",
    "\n",
    "They are widely used for image generation, deepfake creation, and style transfer."
   ]
  },
  {
   "cell_type": "markdown",
   "metadata": {},
   "source": [
    "What is a GAN?\n",
    "\n",
    "A GAN consists of two networks:\n",
    "\n",
    "Generator  – Creates fake data (e.g., fake images).\n",
    "\n",
    "Discriminator  – Tries to distinguish between real and fake data.\n",
    "\n",
    " The Generator tries to fool the Discriminator.\n",
    "\n",
    " The Discriminator gets better at spotting fakes, forcing the Generator to improve."
   ]
  },
  {
   "cell_type": "markdown",
   "metadata": {},
   "source": [
    "GAN Architecture\n",
    "\n",
    "Generator takes random noise and creates fake images.\n",
    "\n",
    "Discriminator classifies images as real or fake.\n",
    "\n",
    "Both networks train in a min-max game:\n",
    "\n",
    "Generator tries to minimize detection by the discriminator.\n",
    "\n",
    "Discriminator tries to maximize accuracy.\n",
    "\n",
    " Loss Function:\n",
    "\n",
    "The goal of GANs is to minimize the Discriminator's ability to distinguish real from fake images."
   ]
  },
  {
   "cell_type": "markdown",
   "metadata": {},
   "source": [
    "Implementing a Simple GAN in TensorFlow (Step-by-Step)"
   ]
  },
  {
   "cell_type": "markdown",
   "metadata": {},
   "source": [
    "Step 1: Import Libraries"
   ]
  },
  {
   "cell_type": "code",
   "execution_count": null,
   "metadata": {},
   "outputs": [],
   "source": [
    "import tensorflow as tf\n",
    "from tensorflow import keras\n",
    "from tensorflow.keras import layers\n",
    "import numpy as np\n",
    "import matplotlib.pyplot as plt\n"
   ]
  },
  {
   "cell_type": "markdown",
   "metadata": {},
   "source": [
    "Step 2:\n",
    "\n",
    " Build the Generator Network\n",
    "\n",
    "The Generator takes random noise and creates a 28×28 grayscale image (like MNIST digits)."
   ]
  },
  {
   "cell_type": "code",
   "execution_count": null,
   "metadata": {},
   "outputs": [],
   "source": [
    "def build_generator():\n",
    "    model = keras.Sequential([\n",
    "        layers.Dense(128, activation=\"relu\", input_shape=(100,)),  # Input: Noise vector (100)\n",
    "        layers.BatchNormalization(),\n",
    "        layers.Dense(256, activation=\"relu\"),\n",
    "        layers.BatchNormalization(),\n",
    "        layers.Dense(28 * 28, activation=\"sigmoid\"),  # Output: 28x28 pixels\n",
    "        layers.Reshape((28, 28))\n",
    "    ])\n",
    "    return model\n",
    "\n",
    "generator = build_generator()\n",
    "generator.summary()\n"
   ]
  },
  {
   "cell_type": "markdown",
   "metadata": {},
   "source": [
    "Step 3:\n",
    "\n",
    " Build the Discriminator Network\n",
    "\n",
    "The Discriminator takes an image (real or fake) and classifies it as real (1) or fake (0).\n",
    "\n"
   ]
  },
  {
   "cell_type": "code",
   "execution_count": null,
   "metadata": {},
   "outputs": [],
   "source": [
    "def build_discriminator():\n",
    "    model = keras.Sequential([\n",
    "        layers.Flatten(input_shape=(28, 28)),\n",
    "        layers.Dense(256, activation=\"relu\"),\n",
    "        layers.Dense(128, activation=\"relu\"),\n",
    "        layers.Dense(1, activation=\"sigmoid\")  # Output: Probability (real or fake)\n",
    "    ])\n",
    "    return model\n",
    "\n",
    "discriminator = build_discriminator()\n",
    "discriminator.summary()\n"
   ]
  },
  {
   "cell_type": "markdown",
   "metadata": {},
   "source": [
    "Step 4:\n",
    "\n",
    " Compile the Discriminator\n",
    "\n",
    "We compile the discriminator using binary crossentropy loss."
   ]
  },
  {
   "cell_type": "code",
   "execution_count": null,
   "metadata": {},
   "outputs": [],
   "source": [
    "discriminator.compile(optimizer=\"adam\", loss=\"binary_crossentropy\", metrics=[\"accuracy\"])\n"
   ]
  },
  {
   "cell_type": "markdown",
   "metadata": {},
   "source": [
    "Step 5:\n",
    "\n",
    " Create and Compile the GAN Model\n",
    "\n",
    "Freeze the Discriminator (so it doesn’t learn too fast).\n",
    "\n",
    "Train only the Generator to fool the Discriminator."
   ]
  },
  {
   "cell_type": "code",
   "execution_count": null,
   "metadata": {},
   "outputs": [],
   "source": [
    "discriminator.trainable = False\n",
    "\n",
    "# Combine Generator and Discriminator\n",
    "gan_input = keras.Input(shape=(100,))\n",
    "fake_image = generator(gan_input)\n",
    "gan_output = discriminator(fake_image)\n",
    "\n",
    "gan = keras.Model(gan_input, gan_output)\n",
    "gan.compile(optimizer=\"adam\", loss=\"binary_crossentropy\")\n"
   ]
  },
  {
   "cell_type": "markdown",
   "metadata": {},
   "source": [
    "Step 6:\n",
    "\n",
    " Train the GAN\n",
    "\n",
    "Train Discriminator on real & fake images.\n",
    "\n",
    "Train Generator to fool the Discriminator"
   ]
  },
  {
   "cell_type": "code",
   "execution_count": null,
   "metadata": {},
   "outputs": [],
   "source": [
    "(x_train, _), _ = keras.datasets.mnist.load_data()\n",
    "x_train = (x_train / 255.0).reshape(-1, 28, 28)  # Normalize to [0,1]\n",
    "\n",
    "batch_size = 128\n",
    "epochs = 10000\n",
    "\n",
    "for epoch in range(epochs):\n",
    "    # Train Discriminator\n",
    "    idx = np.random.randint(0, x_train.shape[0], batch_size)\n",
    "    real_images = x_train[idx]\n",
    "    \n",
    "    noise = np.random.normal(0, 1, (batch_size, 100))\n",
    "    fake_images = generator.predict(noise)\n",
    "    \n",
    "    d_loss_real = discriminator.train_on_batch(real_images, np.ones((batch_size, 1)))\n",
    "    d_loss_fake = discriminator.train_on_batch(fake_images, np.zeros((batch_size, 1)))\n",
    "    d_loss = 0.5 * np.add(d_loss_real, d_loss_fake)\n",
    "\n",
    "    # Train Generator\n",
    "    noise = np.random.normal(0, 1, (batch_size, 100))\n",
    "    g_loss = gan.train_on_batch(noise, np.ones((batch_size, 1)))  # Want to trick Discriminator\n",
    "\n",
    "    # Print progress\n",
    "    if epoch % 1000 == 0:\n",
    "        print(f\"Epoch {epoch}: D Loss = {d_loss[0]}, G Loss = {g_loss}\")\n",
    "\n",
    "print(\"Training complete!\")\n"
   ]
  },
  {
   "cell_type": "markdown",
   "metadata": {},
   "source": [
    "Generate New Images with the Trained GAN\n"
   ]
  },
  {
   "cell_type": "code",
   "execution_count": null,
   "metadata": {},
   "outputs": [],
   "source": [
    "# Generate new images\n",
    "noise = np.random.normal(0, 1, (5, 100))  # 5 random noise vectors\n",
    "generated_images = generator.predict(noise)\n",
    "\n",
    "# Display images\n",
    "fig, axs = plt.subplots(1, 5, figsize=(10, 2))\n",
    "for i in range(5):\n",
    "    axs[i].imshow(generated_images[i], cmap='gray')\n",
    "    axs[i].axis('off')\n",
    "plt.show()\n"
   ]
  },
  {
   "cell_type": "markdown",
   "metadata": {},
   "source": [
    "Advanced GAN Variants\n",
    "\n",
    "**GAN Type**\t**Feature** \t**Use Case**\n",
    "\n",
    "**DCGAN (Deep Convolutional GAN)**\tUses CNNs instead of dense layers\tImage generation\n",
    "\n",
    "**SRGAN (Super-Resolution GAN)**\tEnhances image resolution\tImage upscaling\n",
    "\n",
    "**CycleGAN**\tTransforms images between domains\tStyle transfer (e.g., horses → zebras)\n",
    "\n",
    "**Pix2Pix**\tTransforms sketches into images\tImage-to-image translation"
   ]
  },
  {
   "cell_type": "markdown",
   "metadata": {},
   "source": [
    "Real-World Applications of GANs\n",
    "\n",
    "\n",
    "Deepfakes  – Face swapping in videos.\n",
    "\n",
    "Art Generation – AI-generated paintings.\n",
    "\n",
    "Super-Resolution – Enhancing low-res images.\n",
    "\n",
    "Data Augmentation – Creating synthetic training data."
   ]
  }
 ],
 "metadata": {
  "kernelspec": {
   "display_name": "base",
   "language": "python",
   "name": "python3"
  },
  "language_info": {
   "codemirror_mode": {
    "name": "ipython",
    "version": 3
   },
   "file_extension": ".py",
   "mimetype": "text/x-python",
   "name": "python",
   "nbconvert_exporter": "python",
   "pygments_lexer": "ipython3",
   "version": "3.12.4"
  }
 },
 "nbformat": 4,
 "nbformat_minor": 2
}
