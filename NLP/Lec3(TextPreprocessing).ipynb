{
 "cells": [
  {
   "cell_type": "markdown",
   "metadata": {},
   "source": [
    "**Text Preprocesssing:**\n",
    "\n",
    "*Lowercasing:*\n",
    "\n",
    "*Remove HTML tags:*\n",
    "\n",
    "*Remove urls:*\n",
    "\n",
    "*Remove punctuation:*\n",
    "\n",
    "*Spelling correction:*\n",
    "\n",
    "*Removing stopwords:*\n",
    "\n",
    "*handling emojis:*\n",
    "remove or replace\n",
    "\n",
    "\n",
    "*Tokenization:*\n",
    "\n",
    "*Stemming:*\n",
    "\n",
    "In grammer  inflection is modification of owrd to express diff grammatcial categories suchas tense,case,voice,persons , gender and mood\n",
    "\n",
    "Stemming is process of reducing inflection in owrds to their roots forms suchas mapping group of words to same stem even if stem itself is not valid word in language.\n",
    "\n",
    "\n",
    "*Lemitization\":*\n",
    "\n",
    "reduces the inflected words properly ensuring that root word belongs to langauge. In it root word id Lemma.Lemma is canonical form,dictionary from or citation form of set of words.\n",
    "\n"
   ]
  },
  {
   "cell_type": "code",
   "execution_count": null,
   "metadata": {
    "vscode": {
     "languageId": "plaintext"
    }
   },
   "outputs": [],
   "source": []
  }
 ],
 "metadata": {
  "language_info": {
   "name": "python"
  }
 },
 "nbformat": 4,
 "nbformat_minor": 2
}
