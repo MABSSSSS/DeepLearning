{
 "cells": [
  {
   "cell_type": "markdown",
   "metadata": {},
   "source": [
    "Corpus\n",
    "\n",
    "Vocabulary\n",
    "\n",
    "Pros:\n",
    "\n",
    "intuitive,easy to implement\n",
    "\n",
    "Cons:\n",
    "\n",
    "sparsity, no fixed size, OOV, No capturing of semantic\n",
    "\n",
    "Bag of words\n",
    "\n",
    "\n",
    "Document\n",
    "\n",
    "Word\n",
    "\n",
    "Bag of N grams :\n",
    "\n",
    "Benefits:\n",
    "\n",
    "able to compare,sementic of the sentence, easy to implement.\n",
    "\n",
    "Disadvantages:\n",
    "\n",
    "slows down the algo.\n",
    "\n",
    "Out of words vocab\n",
    "\n",
    "information retreival advanatage\n",
    "\n",
    "\n",
    "disadvantage:\n",
    "\n",
    "sparisty\n",
    "\n",
    "OOV\n",
    "\n",
    "dimension\n",
    "\n",
    "semantic"
   ]
  },
  {
   "cell_type": "markdown",
   "metadata": {},
   "source": [
    "*Word2Vec:*\n",
    "\n",
    "Word embeddings:\n",
    "\n",
    "used for represntition of words for text analysis,typically inform of real valued vector that encodes meaning of wrod such that words that are closr in vector space are expected to be similar in meaning.\n",
    "\n",
    "\n",
    "**What is Word2Ve:**\n",
    "\n",
    "deep learning technique\n",
    "\n",
    "pretrained and self trained\n",
    "\n",
    "\n",
    "sementic meaning\n",
    "\n",
    "Low dimension\n",
    "\n",
    "Dense vector\n",
    "\n",
    "Assumption of word2vec is that two words sharing contexts also share similar meaning and consequently similar vector representation from the model.\n",
    "\n"
   ]
  },
  {
   "cell_type": "markdown",
   "metadata": {},
   "source": [
    "Types of word2vec:\n",
    "\n",
    "\n",
    "CBOW  and  skip-gram\n",
    "\n",
    "\n",
    "CBOW:\n",
    "\n",
    "increase the training data\n",
    "\n",
    "increase dimension of vector\n",
    "\n",
    "increase window size\n",
    "\n"
   ]
  }
 ],
 "metadata": {
  "language_info": {
   "name": "python"
  }
 },
 "nbformat": 4,
 "nbformat_minor": 2
}
