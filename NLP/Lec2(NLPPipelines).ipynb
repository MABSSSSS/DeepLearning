{
 "cells": [
  {
   "cell_type": "markdown",
   "metadata": {},
   "source": [
    "**NLP Pipeline:**\n",
    "\n",
    "Set of steps followed to build an end to end NLP software.\n",
    "\n",
    "following steps.\n",
    "\n",
    "Data acquistion,\n",
    "\n",
    "text preparation(text cleanup,preprocessing and advance preprocessing)\n",
    "\n",
    "Feature Engineering.\n",
    "\n",
    "MOdelling(model building and evaluation)\n",
    "\n",
    "Deployment(deployment,monitoring and model update)\n",
    "\n"
   ]
  },
  {
   "cell_type": "markdown",
   "metadata": {},
   "source": [
    "Its not universal\n",
    "\n",
    "DL pipelines are slightly different.\n",
    "\n",
    "Pipeline is non linear\n",
    "\n"
   ]
  },
  {
   "cell_type": "markdown",
   "metadata": {},
   "source": []
  }
 ],
 "metadata": {
  "language_info": {
   "name": "python"
  }
 },
 "nbformat": 4,
 "nbformat_minor": 2
}
