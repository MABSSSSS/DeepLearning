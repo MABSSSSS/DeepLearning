{
 "cells": [
  {
   "cell_type": "markdown",
   "metadata": {},
   "source": [
    "**Natural Language Processing**\n",
    "\n",
    "It is subfield of linguistics,cs and AI concerne with interactions bw computers and human language ,,, how to program computers to process and analyze large amounts of natural language data.\n",
    "\n",
    "\n",
    "Natural lang is that evolved naturally in humans through use or repetition without concious planing.\n",
    "\n",
    "Distinguished from constructed and formal lag suchas those used to program computers or to studt logic.\n",
    "\n"
   ]
  },
  {
   "cell_type": "markdown",
   "metadata": {},
   "source": [
    "**Apps:**\n",
    "\n",
    "Contextual Advertisements.\n",
    "\n",
    "Email clients - spam filtering , smart reply \n",
    "\n",
    "Social Media - removing adult content,opinion mining.\n",
    "\n",
    "Search engines.\n",
    "\n"
   ]
  },
  {
   "cell_type": "markdown",
   "metadata": {},
   "source": [
    "**NLP Tasks:**\n",
    "\n",
    "Text/Document Classification\n",
    "\n",
    "Sentiment Analysis\n",
    "\n",
    "Information retreival\n",
    "\n",
    "Parts of speech tagging.\n",
    "\n",
    "language detection and machine translation.\n",
    "\n",
    "Conversational Agents\n",
    "\n",
    "Knowledge Graph And QA systems.\n",
    "\n",
    "Text summarization,generation,parsing\n",
    "\n",
    "Topic Modelling.\n",
    "\n",
    "spell checking and grammer correction.\n",
    "\n",
    "Speech to Text.\n",
    "\n"
   ]
  },
  {
   "cell_type": "markdown",
   "metadata": {},
   "source": [
    "**Approaches To NLP:**\n",
    "\n",
    "Heuristic Methods:\n",
    "\n",
    "regular expressions.   Wordnet .  Open Mind Common Sense.\n",
    "\n",
    "\n",
    "ML based methods :\n",
    "\n",
    "big advantage:\n",
    "\n",
    "ML Workflow\n",
    "\n",
    "Naive bayes , Log regression, SVM , LDA and Hidden Markov Models.\n",
    "\n",
    "\n",
    "DL based methods:\n",
    "\n",
    "RNN,   LSTM   , GRU/CNN ,   Transformers     ,   Autoencoders\n",
    "\n"
   ]
  },
  {
   "cell_type": "markdown",
   "metadata": {},
   "source": [
    "Challenges In NLP:\n",
    "\n",
    "Ambiguity\n",
    "\n",
    "Contextual Words.\n",
    "\n",
    "Colloquialisms and slang\n",
    "\n",
    "Synonyms\n",
    "\n",
    "Irony,Sarcasm and tonal diff\n",
    "\n",
    "Spelling errors\n",
    "\n",
    "Creativity\n",
    "\n",
    "Diversity\n",
    "\n"
   ]
  }
 ],
 "metadata": {
  "language_info": {
   "name": "python"
  }
 },
 "nbformat": 4,
 "nbformat_minor": 2
}
